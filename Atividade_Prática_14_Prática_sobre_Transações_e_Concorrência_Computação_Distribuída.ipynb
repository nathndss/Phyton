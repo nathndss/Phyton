{
  "nbformat": 4,
  "nbformat_minor": 0,
  "metadata": {
    "colab": {
      "provenance": [],
      "toc_visible": true,
      "authorship_tag": "ABX9TyPV728DIVl36xI64n2CRZeE",
      "include_colab_link": true
    },
    "kernelspec": {
      "name": "python3",
      "display_name": "Python 3"
    },
    "language_info": {
      "name": "python"
    }
  },
  "cells": [
    {
      "cell_type": "markdown",
      "metadata": {
        "id": "view-in-github",
        "colab_type": "text"
      },
      "source": [
        "<a href=\"https://colab.research.google.com/github/nathndss/Phyton/blob/main/Atividade_Pr%C3%A1tica_14_Pr%C3%A1tica_sobre_Transa%C3%A7%C3%B5es_e_Concorr%C3%AAncia_Computa%C3%A7%C3%A3o_Distribu%C3%ADda.ipynb\" target=\"_parent\"><img src=\"https://colab.research.google.com/assets/colab-badge.svg\" alt=\"Open In Colab\"/></a>"
      ]
    },
    {
      "cell_type": "code",
      "execution_count": 1,
      "metadata": {
        "colab": {
          "base_uri": "https://localhost:8080/"
        },
        "id": "KWBip_fzZ4Ak",
        "outputId": "98c41d89-47d1-4bfa-d4e4-47b461a60ba5"
      },
      "outputs": [
        {
          "output_type": "stream",
          "name": "stdout",
          "text": [
            "Resultado usando MapReduce: 746\n"
          ]
        }
      ],
      "source": [
        "from functools import reduce\n",
        "\n",
        "numbers = [5, 6, 8, 10, 11, 20]\n",
        "\n",
        "mapped = map(lambda x: x*x, numbers)\n",
        "\n",
        "result = reduce (lambda x, y: x+y, mapped)\n",
        "\n",
        "print(\"Resultado usando MapReduce:\", result)"
      ]
    }
  ]
}